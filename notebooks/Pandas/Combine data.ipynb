{
 "cells": [
  {
   "cell_type": "code",
   "execution_count": 17,
   "metadata": {},
   "outputs": [],
   "source": [
    "%matplotlib inline\n",
    "import pandas as pd\n",
    "import matplotlib.pyplot as plt\n",
    "import numpy as np\n",
    "import os\n",
    "from os.path import join\n",
    "import sys\n",
    "\n",
    "cwd = os.getcwd()\n",
    "\n",
    "# Set data path\n",
    "data_path = join(cwd, '..', '..', 'data')"
   ]
  },
  {
   "cell_type": "code",
   "execution_count": 20,
   "metadata": {},
   "outputs": [
    {
     "name": "stdout",
     "output_type": "stream",
     "text": [
      "The autoreload extension is already loaded. To reload it, use:\n",
      "  %reload_ext autoreload\n"
     ]
    }
   ],
   "source": [
    "# Load the \"autoreload\" extension\n",
    "%load_ext autoreload\n",
    "\n",
    "# always reload modules marked with \"%aimport\"\n",
    "%autoreload 1\n",
    "\n",
    "# add the 'src' directory as one where we can import modules\n",
    "src_dir = join(os.getcwd(), '..', '..', 'src')\n",
    "sys.path.append(src_dir)"
   ]
  },
  {
   "cell_type": "code",
   "execution_count": 22,
   "metadata": {},
   "outputs": [],
   "source": [
    "%aimport data.clean_import\n",
    "from data.clean_import import import_epa_emissions, import_plant_capacity, import_plant_generation"
   ]
  },
  {
   "cell_type": "markdown",
   "metadata": {},
   "source": [
    "## Import data"
   ]
  },
  {
   "cell_type": "code",
   "execution_count": 31,
   "metadata": {},
   "outputs": [],
   "source": [
    "epa_path = join(data_path, 'EPA emissions.txt')\n",
    "cap_path = join(data_path, 'may_generator2016.xlsx')\n",
    "gen_path = join(data_path, 'EIA923_Schedules_2_3_4_5_M_10_2016.xlsx')"
   ]
  },
  {
   "cell_type": "code",
   "execution_count": 32,
   "metadata": {},
   "outputs": [
    {
     "name": "stderr",
     "output_type": "stream",
     "text": [
      "/Users/Home/anaconda/envs/pydata-issst/lib/python3.6/site-packages/pandas/io/excel.py:329: FutureWarning: The `sheetname` keyword is deprecated, use `sheet_name` instead\n",
      "  **kwds)\n"
     ]
    }
   ],
   "source": [
    "epa = import_epa_emissions(epa_path)\n",
    "cap = import_plant_capacity(cap_path)\n",
    "gen = import_plant_generation(gen_path)"
   ]
  },
  {
   "cell_type": "markdown",
   "metadata": {},
   "source": [
    "## View each dataset"
   ]
  },
  {
   "cell_type": "code",
   "execution_count": 33,
   "metadata": {},
   "outputs": [
    {
     "data": {
      "text/html": [
       "<div>\n",
       "<style scoped>\n",
       "    .dataframe tbody tr th:only-of-type {\n",
       "        vertical-align: middle;\n",
       "    }\n",
       "\n",
       "    .dataframe tbody tr th {\n",
       "        vertical-align: top;\n",
       "    }\n",
       "\n",
       "    .dataframe thead th {\n",
       "        text-align: right;\n",
       "    }\n",
       "</style>\n",
       "<table border=\"1\" class=\"dataframe\">\n",
       "  <thead>\n",
       "    <tr style=\"text-align: right;\">\n",
       "      <th></th>\n",
       "      <th>state</th>\n",
       "      <th>facility_name</th>\n",
       "      <th>facility_id_orispl</th>\n",
       "      <th>unit_id</th>\n",
       "      <th>associated_stacks</th>\n",
       "      <th>month</th>\n",
       "      <th>year</th>\n",
       "      <th>programs</th>\n",
       "      <th>operating_time</th>\n",
       "      <th>gross_load_mwh</th>\n",
       "      <th>steam_load_1000lb</th>\n",
       "      <th>so2_tons</th>\n",
       "      <th>avg_nox_rate_lb/mmbtu</th>\n",
       "      <th>nox_tons</th>\n",
       "      <th>co2_short_tons</th>\n",
       "      <th>heat_input_mmbtu</th>\n",
       "      <th>epa_region</th>\n",
       "      <th>nerc_region</th>\n",
       "      <th>unit_type</th>\n",
       "      <th>fuel_type_primary</th>\n",
       "    </tr>\n",
       "  </thead>\n",
       "  <tbody>\n",
       "    <tr>\n",
       "      <th>0</th>\n",
       "      <td>AL</td>\n",
       "      <td>AMEA Sylacauga Plant</td>\n",
       "      <td>56018</td>\n",
       "      <td>1</td>\n",
       "      <td>NaN</td>\n",
       "      <td>5</td>\n",
       "      <td>2016</td>\n",
       "      <td>CSNOX, CSNOXOS, CSSO2G2, ARP</td>\n",
       "      <td>28.00</td>\n",
       "      <td>1149.0</td>\n",
       "      <td>NaN</td>\n",
       "      <td>0.004</td>\n",
       "      <td>0.0759</td>\n",
       "      <td>0.473</td>\n",
       "      <td>732.800</td>\n",
       "      <td>12428.200</td>\n",
       "      <td>4</td>\n",
       "      <td>SERC</td>\n",
       "      <td>Combustion turbine</td>\n",
       "      <td>Pipeline Natural Gas</td>\n",
       "    </tr>\n",
       "    <tr>\n",
       "      <th>1</th>\n",
       "      <td>AL</td>\n",
       "      <td>AMEA Sylacauga Plant</td>\n",
       "      <td>56018</td>\n",
       "      <td>2</td>\n",
       "      <td>NaN</td>\n",
       "      <td>5</td>\n",
       "      <td>2016</td>\n",
       "      <td>CSNOX, CSNOXOS, CSSO2G2, ARP</td>\n",
       "      <td>17.00</td>\n",
       "      <td>642.0</td>\n",
       "      <td>NaN</td>\n",
       "      <td>0.002</td>\n",
       "      <td>0.0809</td>\n",
       "      <td>0.283</td>\n",
       "      <td>412.300</td>\n",
       "      <td>6984.600</td>\n",
       "      <td>4</td>\n",
       "      <td>SERC</td>\n",
       "      <td>Combustion turbine</td>\n",
       "      <td>Pipeline Natural Gas</td>\n",
       "    </tr>\n",
       "    <tr>\n",
       "      <th>2</th>\n",
       "      <td>AL</td>\n",
       "      <td>Barry</td>\n",
       "      <td>3</td>\n",
       "      <td>1</td>\n",
       "      <td>CS0AAN</td>\n",
       "      <td>5</td>\n",
       "      <td>2016</td>\n",
       "      <td>ARP, CSNOX, CSNOXOS, CSSO2G2</td>\n",
       "      <td>2.75</td>\n",
       "      <td>11.0</td>\n",
       "      <td>NaN</td>\n",
       "      <td>0.005</td>\n",
       "      <td>0.0080</td>\n",
       "      <td>0.001</td>\n",
       "      <td>14.213</td>\n",
       "      <td>240.050</td>\n",
       "      <td>4</td>\n",
       "      <td>SERC</td>\n",
       "      <td>Tangentially-fired</td>\n",
       "      <td>Pipeline Natural Gas</td>\n",
       "    </tr>\n",
       "    <tr>\n",
       "      <th>3</th>\n",
       "      <td>AL</td>\n",
       "      <td>Barry</td>\n",
       "      <td>3</td>\n",
       "      <td>2</td>\n",
       "      <td>CS0AAN</td>\n",
       "      <td>5</td>\n",
       "      <td>2016</td>\n",
       "      <td>ARP, CSNOX, CSNOXOS, CSSO2G2</td>\n",
       "      <td>2.75</td>\n",
       "      <td>11.0</td>\n",
       "      <td>NaN</td>\n",
       "      <td>0.005</td>\n",
       "      <td>0.0080</td>\n",
       "      <td>0.001</td>\n",
       "      <td>14.213</td>\n",
       "      <td>240.050</td>\n",
       "      <td>4</td>\n",
       "      <td>SERC</td>\n",
       "      <td>Tangentially-fired</td>\n",
       "      <td>Pipeline Natural Gas</td>\n",
       "    </tr>\n",
       "    <tr>\n",
       "      <th>4</th>\n",
       "      <td>AL</td>\n",
       "      <td>Barry</td>\n",
       "      <td>3</td>\n",
       "      <td>4</td>\n",
       "      <td>NaN</td>\n",
       "      <td>5</td>\n",
       "      <td>2016</td>\n",
       "      <td>ARP, MATS, CSNOX, CSNOXOS, CSSO2G2</td>\n",
       "      <td>725.25</td>\n",
       "      <td>116336.0</td>\n",
       "      <td>NaN</td>\n",
       "      <td>572.537</td>\n",
       "      <td>0.4319</td>\n",
       "      <td>265.224</td>\n",
       "      <td>128402.000</td>\n",
       "      <td>1251483.675</td>\n",
       "      <td>4</td>\n",
       "      <td>SERC</td>\n",
       "      <td>Tangentially-fired</td>\n",
       "      <td>Coal</td>\n",
       "    </tr>\n",
       "  </tbody>\n",
       "</table>\n",
       "</div>"
      ],
      "text/plain": [
       "  state         facility_name  facility_id_orispl unit_id associated_stacks  \\\n",
       "0    AL  AMEA Sylacauga Plant               56018       1               NaN   \n",
       "1    AL  AMEA Sylacauga Plant               56018       2               NaN   \n",
       "2    AL                 Barry                   3       1            CS0AAN   \n",
       "3    AL                 Barry                   3       2            CS0AAN   \n",
       "4    AL                 Barry                   3       4               NaN   \n",
       "\n",
       "   month  year                            programs  operating_time  \\\n",
       "0      5  2016        CSNOX, CSNOXOS, CSSO2G2, ARP           28.00   \n",
       "1      5  2016        CSNOX, CSNOXOS, CSSO2G2, ARP           17.00   \n",
       "2      5  2016        ARP, CSNOX, CSNOXOS, CSSO2G2            2.75   \n",
       "3      5  2016        ARP, CSNOX, CSNOXOS, CSSO2G2            2.75   \n",
       "4      5  2016  ARP, MATS, CSNOX, CSNOXOS, CSSO2G2          725.25   \n",
       "\n",
       "   gross_load_mwh  steam_load_1000lb  so2_tons  avg_nox_rate_lb/mmbtu  \\\n",
       "0          1149.0                NaN     0.004                 0.0759   \n",
       "1           642.0                NaN     0.002                 0.0809   \n",
       "2            11.0                NaN     0.005                 0.0080   \n",
       "3            11.0                NaN     0.005                 0.0080   \n",
       "4        116336.0                NaN   572.537                 0.4319   \n",
       "\n",
       "   nox_tons  co2_short_tons  heat_input_mmbtu  epa_region nerc_region  \\\n",
       "0     0.473         732.800         12428.200           4        SERC   \n",
       "1     0.283         412.300          6984.600           4        SERC   \n",
       "2     0.001          14.213           240.050           4        SERC   \n",
       "3     0.001          14.213           240.050           4        SERC   \n",
       "4   265.224      128402.000       1251483.675           4        SERC   \n",
       "\n",
       "            unit_type     fuel_type_primary  \n",
       "0  Combustion turbine  Pipeline Natural Gas  \n",
       "1  Combustion turbine  Pipeline Natural Gas  \n",
       "2  Tangentially-fired  Pipeline Natural Gas  \n",
       "3  Tangentially-fired  Pipeline Natural Gas  \n",
       "4  Tangentially-fired                  Coal  "
      ]
     },
     "execution_count": 33,
     "metadata": {},
     "output_type": "execute_result"
    }
   ],
   "source": [
    "epa.head()"
   ]
  },
  {
   "cell_type": "code",
   "execution_count": 35,
   "metadata": {},
   "outputs": [
    {
     "data": {
      "text/plain": [
       "array([5])"
      ]
     },
     "execution_count": 35,
     "metadata": {},
     "output_type": "execute_result"
    }
   ],
   "source": [
    "epa.month.unique()"
   ]
  },
  {
   "cell_type": "code",
   "execution_count": null,
   "metadata": {},
   "outputs": [],
   "source": []
  }
 ],
 "metadata": {
  "kernelspec": {
   "display_name": "Python [conda env:pydata-issst]",
   "language": "python",
   "name": "conda-env-pydata-issst-py"
  },
  "language_info": {
   "codemirror_mode": {
    "name": "ipython",
    "version": 3
   },
   "file_extension": ".py",
   "mimetype": "text/x-python",
   "name": "python",
   "nbconvert_exporter": "python",
   "pygments_lexer": "ipython3",
   "version": "3.6.5"
  }
 },
 "nbformat": 4,
 "nbformat_minor": 2
}
