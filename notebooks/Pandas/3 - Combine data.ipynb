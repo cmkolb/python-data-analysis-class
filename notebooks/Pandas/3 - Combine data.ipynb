{
 "cells": [
  {
   "cell_type": "code",
   "execution_count": 1,
   "metadata": {},
   "outputs": [],
   "source": [
    "import pandas as pd\n",
    "import numpy as np\n",
    "import os\n",
    "from os.path import join\n",
    "import sys\n",
    "\n",
    "cwd = os.getcwd()\n",
    "\n",
    "# Set data path\n",
    "data_path = join(cwd, '..', '..', 'data')"
   ]
  },
  {
   "cell_type": "code",
   "execution_count": 2,
   "metadata": {},
   "outputs": [],
   "source": [
    "pd.set_option('display.max_rows', 100)\n",
    "pd.set_option('display.max_columns', 100)"
   ]
  },
  {
   "cell_type": "markdown",
   "metadata": {},
   "source": [
    "### Using `autoreload`\n",
    "[`autoreload` is a useful extension](https://ipython.org/ipython-doc/3/config/extensions/autoreload.html)  that reloads imported modules. It lets you make edits to functions in a script without having to restart your kernel and run everything in the notebook from the start. I discovered it as part of [Cookiecutter Data Science](https://drivendata.github.io/cookiecutter-data-science/). Even if you don't use the Cookiecutter package I recommend checking out their suggestions for project structure. "
   ]
  },
  {
   "cell_type": "code",
   "execution_count": 3,
   "metadata": {},
   "outputs": [],
   "source": [
    "# Load the \"autoreload\" extension\n",
    "%load_ext autoreload\n",
    "\n",
    "# always reload modules marked with \"%aimport\"\n",
    "%autoreload 1\n",
    "\n",
    "# add the 'src' directory as one where we can import modules\n",
    "src_dir = join(os.getcwd(), '..', '..', 'src')\n",
    "sys.path.append(src_dir)"
   ]
  },
  {
   "cell_type": "code",
   "execution_count": 4,
   "metadata": {},
   "outputs": [],
   "source": [
    "# Import functions to load/clean the data files\n",
    "%aimport data.clean_import\n",
    "from data.clean_import import import_epa_emissions, import_plant_generation"
   ]
  },
  {
   "cell_type": "markdown",
   "metadata": {},
   "source": [
    "## Import data\n",
    "Use functions that were written based on experience from the `2 - Explore file imports` notebook. These functions will do all the processing work and keep this notebook cleaner."
   ]
  },
  {
   "cell_type": "code",
   "execution_count": 6,
   "metadata": {},
   "outputs": [],
   "source": [
    "epa_path = join(data_path, 'external', 'epa_emissions_2016.txt')\n",
    "gen_path = join(data_path, 'external', 'EIA923_Schedules_2_3_4_5_M_12_2016_Final_Revision.xlsx')"
   ]
  },
  {
   "cell_type": "code",
   "execution_count": 8,
   "metadata": {},
   "outputs": [],
   "source": [
    "epa = import_epa_emissions(epa_path)\n",
    "gen = import_plant_generation(gen_path)"
   ]
  },
  {
   "cell_type": "markdown",
   "metadata": {},
   "source": [
    "## View each dataset"
   ]
  },
  {
   "cell_type": "code",
   "execution_count": 9,
   "metadata": {},
   "outputs": [
    {
     "data": {
      "text/html": [
       "<div>\n",
       "<style scoped>\n",
       "    .dataframe tbody tr th:only-of-type {\n",
       "        vertical-align: middle;\n",
       "    }\n",
       "\n",
       "    .dataframe tbody tr th {\n",
       "        vertical-align: top;\n",
       "    }\n",
       "\n",
       "    .dataframe thead th {\n",
       "        text-align: right;\n",
       "    }\n",
       "</style>\n",
       "<table border=\"1\" class=\"dataframe\">\n",
       "  <thead>\n",
       "    <tr style=\"text-align: right;\">\n",
       "      <th></th>\n",
       "      <th>state</th>\n",
       "      <th>facility_name</th>\n",
       "      <th>plant_id</th>\n",
       "      <th>month</th>\n",
       "      <th>year</th>\n",
       "      <th>gross_load_mwh</th>\n",
       "      <th>heat_input_mmbtu</th>\n",
       "      <th>so2_kg</th>\n",
       "      <th>nox_kg</th>\n",
       "      <th>co2_kg</th>\n",
       "    </tr>\n",
       "  </thead>\n",
       "  <tbody>\n",
       "    <tr>\n",
       "      <th>0</th>\n",
       "      <td>AL</td>\n",
       "      <td>AMEA Sylacauga Plant</td>\n",
       "      <td>56018</td>\n",
       "      <td>1</td>\n",
       "      <td>2016</td>\n",
       "      <td>4534.0</td>\n",
       "      <td>52585.8</td>\n",
       "      <td>12.700586</td>\n",
       "      <td>2022.114696</td>\n",
       "      <td>2.813906e+06</td>\n",
       "    </tr>\n",
       "    <tr>\n",
       "      <th>1</th>\n",
       "      <td>AL</td>\n",
       "      <td>AMEA Sylacauga Plant</td>\n",
       "      <td>56018</td>\n",
       "      <td>2</td>\n",
       "      <td>2016</td>\n",
       "      <td>792.0</td>\n",
       "      <td>9186.0</td>\n",
       "      <td>1.814369</td>\n",
       "      <td>327.493677</td>\n",
       "      <td>4.916941e+05</td>\n",
       "    </tr>\n",
       "    <tr>\n",
       "      <th>2</th>\n",
       "      <td>AL</td>\n",
       "      <td>AMEA Sylacauga Plant</td>\n",
       "      <td>56018</td>\n",
       "      <td>3</td>\n",
       "      <td>2016</td>\n",
       "      <td>1498.0</td>\n",
       "      <td>17365.5</td>\n",
       "      <td>4.535923</td>\n",
       "      <td>614.164042</td>\n",
       "      <td>9.291386e+05</td>\n",
       "    </tr>\n",
       "    <tr>\n",
       "      <th>3</th>\n",
       "      <td>AL</td>\n",
       "      <td>AMEA Sylacauga Plant</td>\n",
       "      <td>56018</td>\n",
       "      <td>4</td>\n",
       "      <td>2016</td>\n",
       "      <td>1405.0</td>\n",
       "      <td>14987.3</td>\n",
       "      <td>4.535923</td>\n",
       "      <td>531.610234</td>\n",
       "      <td>8.020420e+05</td>\n",
       "    </tr>\n",
       "    <tr>\n",
       "      <th>4</th>\n",
       "      <td>AL</td>\n",
       "      <td>AMEA Sylacauga Plant</td>\n",
       "      <td>56018</td>\n",
       "      <td>5</td>\n",
       "      <td>2016</td>\n",
       "      <td>1791.0</td>\n",
       "      <td>19412.8</td>\n",
       "      <td>5.443108</td>\n",
       "      <td>685.831633</td>\n",
       "      <td>1.038817e+06</td>\n",
       "    </tr>\n",
       "  </tbody>\n",
       "</table>\n",
       "</div>"
      ],
      "text/plain": [
       "  state         facility_name  plant_id  month  year  gross_load_mwh  \\\n",
       "0    AL  AMEA Sylacauga Plant     56018      1  2016          4534.0   \n",
       "1    AL  AMEA Sylacauga Plant     56018      2  2016           792.0   \n",
       "2    AL  AMEA Sylacauga Plant     56018      3  2016          1498.0   \n",
       "3    AL  AMEA Sylacauga Plant     56018      4  2016          1405.0   \n",
       "4    AL  AMEA Sylacauga Plant     56018      5  2016          1791.0   \n",
       "\n",
       "   heat_input_mmbtu     so2_kg       nox_kg        co2_kg  \n",
       "0           52585.8  12.700586  2022.114696  2.813906e+06  \n",
       "1            9186.0   1.814369   327.493677  4.916941e+05  \n",
       "2           17365.5   4.535923   614.164042  9.291386e+05  \n",
       "3           14987.3   4.535923   531.610234  8.020420e+05  \n",
       "4           19412.8   5.443108   685.831633  1.038817e+06  "
      ]
     },
     "execution_count": 9,
     "metadata": {},
     "output_type": "execute_result"
    }
   ],
   "source": [
    "epa.head()"
   ]
  },
  {
   "cell_type": "code",
   "execution_count": 10,
   "metadata": {},
   "outputs": [
    {
     "data": {
      "text/html": [
       "<div>\n",
       "<style scoped>\n",
       "    .dataframe tbody tr th:only-of-type {\n",
       "        vertical-align: middle;\n",
       "    }\n",
       "\n",
       "    .dataframe tbody tr th {\n",
       "        vertical-align: top;\n",
       "    }\n",
       "\n",
       "    .dataframe thead th {\n",
       "        text-align: right;\n",
       "    }\n",
       "</style>\n",
       "<table border=\"1\" class=\"dataframe\">\n",
       "  <thead>\n",
       "    <tr style=\"text-align: right;\">\n",
       "      <th></th>\n",
       "      <th>plant_id</th>\n",
       "      <th>month</th>\n",
       "      <th>net_gen_mwh</th>\n",
       "      <th>primary_gen_fuel</th>\n",
       "    </tr>\n",
       "  </thead>\n",
       "  <tbody>\n",
       "    <tr>\n",
       "      <th>0</th>\n",
       "      <td>2</td>\n",
       "      <td>1</td>\n",
       "      <td>-77.112</td>\n",
       "      <td>HYC</td>\n",
       "    </tr>\n",
       "    <tr>\n",
       "      <th>1</th>\n",
       "      <td>2</td>\n",
       "      <td>2</td>\n",
       "      <td>-69.679</td>\n",
       "      <td>HYC</td>\n",
       "    </tr>\n",
       "    <tr>\n",
       "      <th>2</th>\n",
       "      <td>2</td>\n",
       "      <td>3</td>\n",
       "      <td>-48.374</td>\n",
       "      <td>HYC</td>\n",
       "    </tr>\n",
       "    <tr>\n",
       "      <th>3</th>\n",
       "      <td>2</td>\n",
       "      <td>4</td>\n",
       "      <td>-24.341</td>\n",
       "      <td>HYC</td>\n",
       "    </tr>\n",
       "    <tr>\n",
       "      <th>4</th>\n",
       "      <td>2</td>\n",
       "      <td>5</td>\n",
       "      <td>-11.476</td>\n",
       "      <td>HYC</td>\n",
       "    </tr>\n",
       "  </tbody>\n",
       "</table>\n",
       "</div>"
      ],
      "text/plain": [
       "   plant_id  month  net_gen_mwh primary_gen_fuel\n",
       "0         2      1      -77.112              HYC\n",
       "1         2      2      -69.679              HYC\n",
       "2         2      3      -48.374              HYC\n",
       "3         2      4      -24.341              HYC\n",
       "4         2      5      -11.476              HYC"
      ]
     },
     "execution_count": 10,
     "metadata": {},
     "output_type": "execute_result"
    }
   ],
   "source": [
    "gen.head()"
   ]
  },
  {
   "cell_type": "markdown",
   "metadata": {},
   "source": [
    "## Does each dataset have the same plants?\n",
    "Clearly we have generation data for many more plants than we have emissions data."
   ]
  },
  {
   "cell_type": "code",
   "execution_count": 25,
   "metadata": {},
   "outputs": [
    {
     "data": {
      "text/plain": [
       "(1227, 8121)"
      ]
     },
     "execution_count": 25,
     "metadata": {},
     "output_type": "execute_result"
    }
   ],
   "source": [
    "len(epa.plant_id.unique()), len(gen.plant_id.unique())"
   ]
  },
  {
   "cell_type": "code",
   "execution_count": 20,
   "metadata": {},
   "outputs": [
    {
     "data": {
      "text/plain": [
       "{50,\n",
       " 330,\n",
       " 1381,\n",
       " 1443,\n",
       " 2709,\n",
       " 3468,\n",
       " 3644,\n",
       " 7258,\n",
       " 7762,\n",
       " 7765,\n",
       " 10380,\n",
       " 10619,\n",
       " 10803,\n",
       " 50202,\n",
       " 50736,\n",
       " 54571,\n",
       " 55192,\n",
       " 58478,\n",
       " 70454}"
      ]
     },
     "execution_count": 20,
     "metadata": {},
     "output_type": "execute_result"
    }
   ],
   "source": [
    "set(epa['plant_id']) - set(gen['plant_id'])"
   ]
  },
  {
   "cell_type": "code",
   "execution_count": 22,
   "metadata": {},
   "outputs": [
    {
     "data": {
      "text/plain": [
       "6913"
      ]
     },
     "execution_count": 22,
     "metadata": {},
     "output_type": "execute_result"
    }
   ],
   "source": [
    "len(set(gen['plant_id']) - set(epa['plant_id']))"
   ]
  },
  {
   "cell_type": "markdown",
   "metadata": {},
   "source": [
    "## Join data\n",
    "Joining (or merging) different datasets based on some common factor is a powerful tool. It's a common SQL operation but difficult to implement in Excel (vlookup anyone?)."
   ]
  },
  {
   "cell_type": "markdown",
   "metadata": {},
   "source": [
    "### Inner joins\n",
    "Inner joins will only keep rows with common keys from each dataframe. Notice that the first value of `plant_id` in the result below is 3. "
   ]
  },
  {
   "cell_type": "code",
   "execution_count": 11,
   "metadata": {},
   "outputs": [],
   "source": [
    "inner = pd.merge(left=gen, right=epa, on=['plant_id', 'month'], how='inner')"
   ]
  },
  {
   "cell_type": "code",
   "execution_count": 12,
   "metadata": {},
   "outputs": [
    {
     "data": {
      "text/html": [
       "<div>\n",
       "<style scoped>\n",
       "    .dataframe tbody tr th:only-of-type {\n",
       "        vertical-align: middle;\n",
       "    }\n",
       "\n",
       "    .dataframe tbody tr th {\n",
       "        vertical-align: top;\n",
       "    }\n",
       "\n",
       "    .dataframe thead th {\n",
       "        text-align: right;\n",
       "    }\n",
       "</style>\n",
       "<table border=\"1\" class=\"dataframe\">\n",
       "  <thead>\n",
       "    <tr style=\"text-align: right;\">\n",
       "      <th></th>\n",
       "      <th>plant_id</th>\n",
       "      <th>month</th>\n",
       "      <th>net_gen_mwh</th>\n",
       "      <th>primary_gen_fuel</th>\n",
       "      <th>state</th>\n",
       "      <th>facility_name</th>\n",
       "      <th>year</th>\n",
       "      <th>gross_load_mwh</th>\n",
       "      <th>heat_input_mmbtu</th>\n",
       "      <th>so2_kg</th>\n",
       "      <th>nox_kg</th>\n",
       "      <th>co2_kg</th>\n",
       "    </tr>\n",
       "  </thead>\n",
       "  <tbody>\n",
       "    <tr>\n",
       "      <th>0</th>\n",
       "      <td>3</td>\n",
       "      <td>1</td>\n",
       "      <td>1123279.005</td>\n",
       "      <td>NG</td>\n",
       "      <td>AL</td>\n",
       "      <td>Barry</td>\n",
       "      <td>2016</td>\n",
       "      <td>1167143.00</td>\n",
       "      <td>9108381.575</td>\n",
       "      <td>513769.539890</td>\n",
       "      <td>406174.712916</td>\n",
       "      <td>6.293786e+08</td>\n",
       "    </tr>\n",
       "    <tr>\n",
       "      <th>1</th>\n",
       "      <td>3</td>\n",
       "      <td>2</td>\n",
       "      <td>977043.999</td>\n",
       "      <td>NG</td>\n",
       "      <td>AL</td>\n",
       "      <td>Barry</td>\n",
       "      <td>2016</td>\n",
       "      <td>1013372.50</td>\n",
       "      <td>7912099.500</td>\n",
       "      <td>481840.267189</td>\n",
       "      <td>339913.942428</td>\n",
       "      <td>5.377752e+08</td>\n",
       "    </tr>\n",
       "    <tr>\n",
       "      <th>2</th>\n",
       "      <td>3</td>\n",
       "      <td>3</td>\n",
       "      <td>904562.996</td>\n",
       "      <td>NG</td>\n",
       "      <td>AL</td>\n",
       "      <td>Barry</td>\n",
       "      <td>2016</td>\n",
       "      <td>942802.75</td>\n",
       "      <td>7467475.775</td>\n",
       "      <td>224331.354170</td>\n",
       "      <td>263205.125750</td>\n",
       "      <td>5.245847e+08</td>\n",
       "    </tr>\n",
       "    <tr>\n",
       "      <th>3</th>\n",
       "      <td>3</td>\n",
       "      <td>4</td>\n",
       "      <td>788708.000</td>\n",
       "      <td>NG</td>\n",
       "      <td>AL</td>\n",
       "      <td>Barry</td>\n",
       "      <td>2016</td>\n",
       "      <td>809007.50</td>\n",
       "      <td>5759692.300</td>\n",
       "      <td>180525.219376</td>\n",
       "      <td>95520.198617</td>\n",
       "      <td>3.275286e+08</td>\n",
       "    </tr>\n",
       "    <tr>\n",
       "      <th>4</th>\n",
       "      <td>3</td>\n",
       "      <td>5</td>\n",
       "      <td>1028473.000</td>\n",
       "      <td>NG</td>\n",
       "      <td>AL</td>\n",
       "      <td>Barry</td>\n",
       "      <td>2016</td>\n",
       "      <td>1048450.25</td>\n",
       "      <td>8471790.125</td>\n",
       "      <td>540601.341762</td>\n",
       "      <td>373002.597176</td>\n",
       "      <td>6.142357e+08</td>\n",
       "    </tr>\n",
       "  </tbody>\n",
       "</table>\n",
       "</div>"
      ],
      "text/plain": [
       "   plant_id  month  net_gen_mwh primary_gen_fuel state facility_name  year  \\\n",
       "0         3      1  1123279.005               NG    AL         Barry  2016   \n",
       "1         3      2   977043.999               NG    AL         Barry  2016   \n",
       "2         3      3   904562.996               NG    AL         Barry  2016   \n",
       "3         3      4   788708.000               NG    AL         Barry  2016   \n",
       "4         3      5  1028473.000               NG    AL         Barry  2016   \n",
       "\n",
       "   gross_load_mwh  heat_input_mmbtu         so2_kg         nox_kg  \\\n",
       "0      1167143.00       9108381.575  513769.539890  406174.712916   \n",
       "1      1013372.50       7912099.500  481840.267189  339913.942428   \n",
       "2       942802.75       7467475.775  224331.354170  263205.125750   \n",
       "3       809007.50       5759692.300  180525.219376   95520.198617   \n",
       "4      1048450.25       8471790.125  540601.341762  373002.597176   \n",
       "\n",
       "         co2_kg  \n",
       "0  6.293786e+08  \n",
       "1  5.377752e+08  \n",
       "2  5.245847e+08  \n",
       "3  3.275286e+08  \n",
       "4  6.142357e+08  "
      ]
     },
     "execution_count": 12,
     "metadata": {},
     "output_type": "execute_result"
    }
   ],
   "source": [
    "inner.head()"
   ]
  },
  {
   "cell_type": "markdown",
   "metadata": {},
   "source": [
    "### Left/right joins\n",
    "Left and right joins will keep all values of one dataframe, merging in matching values from the second dataframe. The results below have kept plant 2 and filled the `epa` column values with `NaN`."
   ]
  },
  {
   "cell_type": "code",
   "execution_count": 13,
   "metadata": {},
   "outputs": [],
   "source": [
    "left = pd.merge(left=gen, right=epa, on=['plant_id', 'month'], how='left')"
   ]
  },
  {
   "cell_type": "code",
   "execution_count": 14,
   "metadata": {},
   "outputs": [
    {
     "data": {
      "text/html": [
       "<div>\n",
       "<style scoped>\n",
       "    .dataframe tbody tr th:only-of-type {\n",
       "        vertical-align: middle;\n",
       "    }\n",
       "\n",
       "    .dataframe tbody tr th {\n",
       "        vertical-align: top;\n",
       "    }\n",
       "\n",
       "    .dataframe thead th {\n",
       "        text-align: right;\n",
       "    }\n",
       "</style>\n",
       "<table border=\"1\" class=\"dataframe\">\n",
       "  <thead>\n",
       "    <tr style=\"text-align: right;\">\n",
       "      <th></th>\n",
       "      <th>plant_id</th>\n",
       "      <th>month</th>\n",
       "      <th>net_gen_mwh</th>\n",
       "      <th>primary_gen_fuel</th>\n",
       "      <th>state</th>\n",
       "      <th>facility_name</th>\n",
       "      <th>year</th>\n",
       "      <th>gross_load_mwh</th>\n",
       "      <th>heat_input_mmbtu</th>\n",
       "      <th>so2_kg</th>\n",
       "      <th>nox_kg</th>\n",
       "      <th>co2_kg</th>\n",
       "    </tr>\n",
       "  </thead>\n",
       "  <tbody>\n",
       "    <tr>\n",
       "      <th>0</th>\n",
       "      <td>2</td>\n",
       "      <td>1</td>\n",
       "      <td>-77.112</td>\n",
       "      <td>HYC</td>\n",
       "      <td>NaN</td>\n",
       "      <td>NaN</td>\n",
       "      <td>NaN</td>\n",
       "      <td>NaN</td>\n",
       "      <td>NaN</td>\n",
       "      <td>NaN</td>\n",
       "      <td>NaN</td>\n",
       "      <td>NaN</td>\n",
       "    </tr>\n",
       "    <tr>\n",
       "      <th>1</th>\n",
       "      <td>2</td>\n",
       "      <td>2</td>\n",
       "      <td>-69.679</td>\n",
       "      <td>HYC</td>\n",
       "      <td>NaN</td>\n",
       "      <td>NaN</td>\n",
       "      <td>NaN</td>\n",
       "      <td>NaN</td>\n",
       "      <td>NaN</td>\n",
       "      <td>NaN</td>\n",
       "      <td>NaN</td>\n",
       "      <td>NaN</td>\n",
       "    </tr>\n",
       "    <tr>\n",
       "      <th>2</th>\n",
       "      <td>2</td>\n",
       "      <td>3</td>\n",
       "      <td>-48.374</td>\n",
       "      <td>HYC</td>\n",
       "      <td>NaN</td>\n",
       "      <td>NaN</td>\n",
       "      <td>NaN</td>\n",
       "      <td>NaN</td>\n",
       "      <td>NaN</td>\n",
       "      <td>NaN</td>\n",
       "      <td>NaN</td>\n",
       "      <td>NaN</td>\n",
       "    </tr>\n",
       "    <tr>\n",
       "      <th>3</th>\n",
       "      <td>2</td>\n",
       "      <td>4</td>\n",
       "      <td>-24.341</td>\n",
       "      <td>HYC</td>\n",
       "      <td>NaN</td>\n",
       "      <td>NaN</td>\n",
       "      <td>NaN</td>\n",
       "      <td>NaN</td>\n",
       "      <td>NaN</td>\n",
       "      <td>NaN</td>\n",
       "      <td>NaN</td>\n",
       "      <td>NaN</td>\n",
       "    </tr>\n",
       "    <tr>\n",
       "      <th>4</th>\n",
       "      <td>2</td>\n",
       "      <td>5</td>\n",
       "      <td>-11.476</td>\n",
       "      <td>HYC</td>\n",
       "      <td>NaN</td>\n",
       "      <td>NaN</td>\n",
       "      <td>NaN</td>\n",
       "      <td>NaN</td>\n",
       "      <td>NaN</td>\n",
       "      <td>NaN</td>\n",
       "      <td>NaN</td>\n",
       "      <td>NaN</td>\n",
       "    </tr>\n",
       "  </tbody>\n",
       "</table>\n",
       "</div>"
      ],
      "text/plain": [
       "   plant_id  month  net_gen_mwh primary_gen_fuel state facility_name  year  \\\n",
       "0         2      1      -77.112              HYC   NaN           NaN   NaN   \n",
       "1         2      2      -69.679              HYC   NaN           NaN   NaN   \n",
       "2         2      3      -48.374              HYC   NaN           NaN   NaN   \n",
       "3         2      4      -24.341              HYC   NaN           NaN   NaN   \n",
       "4         2      5      -11.476              HYC   NaN           NaN   NaN   \n",
       "\n",
       "   gross_load_mwh  heat_input_mmbtu  so2_kg  nox_kg  co2_kg  \n",
       "0             NaN               NaN     NaN     NaN     NaN  \n",
       "1             NaN               NaN     NaN     NaN     NaN  \n",
       "2             NaN               NaN     NaN     NaN     NaN  \n",
       "3             NaN               NaN     NaN     NaN     NaN  \n",
       "4             NaN               NaN     NaN     NaN     NaN  "
      ]
     },
     "execution_count": 14,
     "metadata": {},
     "output_type": "execute_result"
    }
   ],
   "source": [
    "left.head()"
   ]
  },
  {
   "cell_type": "markdown",
   "metadata": {},
   "source": [
    "### Outer joins\n",
    "Outer joins will keep all rows from both dataframes, filling in missing values with `NaN`."
   ]
  },
  {
   "cell_type": "code",
   "execution_count": 15,
   "metadata": {},
   "outputs": [],
   "source": [
    "outer = pd.merge(left=gen, right=epa, on=['plant_id', 'month'], how='outer')"
   ]
  },
  {
   "cell_type": "code",
   "execution_count": 16,
   "metadata": {},
   "outputs": [
    {
     "data": {
      "text/html": [
       "<div>\n",
       "<style scoped>\n",
       "    .dataframe tbody tr th:only-of-type {\n",
       "        vertical-align: middle;\n",
       "    }\n",
       "\n",
       "    .dataframe tbody tr th {\n",
       "        vertical-align: top;\n",
       "    }\n",
       "\n",
       "    .dataframe thead th {\n",
       "        text-align: right;\n",
       "    }\n",
       "</style>\n",
       "<table border=\"1\" class=\"dataframe\">\n",
       "  <thead>\n",
       "    <tr style=\"text-align: right;\">\n",
       "      <th></th>\n",
       "      <th>plant_id</th>\n",
       "      <th>month</th>\n",
       "      <th>net_gen_mwh</th>\n",
       "      <th>primary_gen_fuel</th>\n",
       "      <th>state</th>\n",
       "      <th>facility_name</th>\n",
       "      <th>year</th>\n",
       "      <th>gross_load_mwh</th>\n",
       "      <th>heat_input_mmbtu</th>\n",
       "      <th>so2_kg</th>\n",
       "      <th>nox_kg</th>\n",
       "      <th>co2_kg</th>\n",
       "    </tr>\n",
       "  </thead>\n",
       "  <tbody>\n",
       "    <tr>\n",
       "      <th>0</th>\n",
       "      <td>2</td>\n",
       "      <td>1</td>\n",
       "      <td>-77.112</td>\n",
       "      <td>HYC</td>\n",
       "      <td>NaN</td>\n",
       "      <td>NaN</td>\n",
       "      <td>NaN</td>\n",
       "      <td>NaN</td>\n",
       "      <td>NaN</td>\n",
       "      <td>NaN</td>\n",
       "      <td>NaN</td>\n",
       "      <td>NaN</td>\n",
       "    </tr>\n",
       "    <tr>\n",
       "      <th>1</th>\n",
       "      <td>2</td>\n",
       "      <td>2</td>\n",
       "      <td>-69.679</td>\n",
       "      <td>HYC</td>\n",
       "      <td>NaN</td>\n",
       "      <td>NaN</td>\n",
       "      <td>NaN</td>\n",
       "      <td>NaN</td>\n",
       "      <td>NaN</td>\n",
       "      <td>NaN</td>\n",
       "      <td>NaN</td>\n",
       "      <td>NaN</td>\n",
       "    </tr>\n",
       "    <tr>\n",
       "      <th>2</th>\n",
       "      <td>2</td>\n",
       "      <td>3</td>\n",
       "      <td>-48.374</td>\n",
       "      <td>HYC</td>\n",
       "      <td>NaN</td>\n",
       "      <td>NaN</td>\n",
       "      <td>NaN</td>\n",
       "      <td>NaN</td>\n",
       "      <td>NaN</td>\n",
       "      <td>NaN</td>\n",
       "      <td>NaN</td>\n",
       "      <td>NaN</td>\n",
       "    </tr>\n",
       "    <tr>\n",
       "      <th>3</th>\n",
       "      <td>2</td>\n",
       "      <td>4</td>\n",
       "      <td>-24.341</td>\n",
       "      <td>HYC</td>\n",
       "      <td>NaN</td>\n",
       "      <td>NaN</td>\n",
       "      <td>NaN</td>\n",
       "      <td>NaN</td>\n",
       "      <td>NaN</td>\n",
       "      <td>NaN</td>\n",
       "      <td>NaN</td>\n",
       "      <td>NaN</td>\n",
       "    </tr>\n",
       "    <tr>\n",
       "      <th>4</th>\n",
       "      <td>2</td>\n",
       "      <td>5</td>\n",
       "      <td>-11.476</td>\n",
       "      <td>HYC</td>\n",
       "      <td>NaN</td>\n",
       "      <td>NaN</td>\n",
       "      <td>NaN</td>\n",
       "      <td>NaN</td>\n",
       "      <td>NaN</td>\n",
       "      <td>NaN</td>\n",
       "      <td>NaN</td>\n",
       "      <td>NaN</td>\n",
       "    </tr>\n",
       "  </tbody>\n",
       "</table>\n",
       "</div>"
      ],
      "text/plain": [
       "   plant_id  month  net_gen_mwh primary_gen_fuel state facility_name  year  \\\n",
       "0         2      1      -77.112              HYC   NaN           NaN   NaN   \n",
       "1         2      2      -69.679              HYC   NaN           NaN   NaN   \n",
       "2         2      3      -48.374              HYC   NaN           NaN   NaN   \n",
       "3         2      4      -24.341              HYC   NaN           NaN   NaN   \n",
       "4         2      5      -11.476              HYC   NaN           NaN   NaN   \n",
       "\n",
       "   gross_load_mwh  heat_input_mmbtu  so2_kg  nox_kg  co2_kg  \n",
       "0             NaN               NaN     NaN     NaN     NaN  \n",
       "1             NaN               NaN     NaN     NaN     NaN  \n",
       "2             NaN               NaN     NaN     NaN     NaN  \n",
       "3             NaN               NaN     NaN     NaN     NaN  \n",
       "4             NaN               NaN     NaN     NaN     NaN  "
      ]
     },
     "execution_count": 16,
     "metadata": {},
     "output_type": "execute_result"
    }
   ],
   "source": [
    "outer.head()"
   ]
  },
  {
   "cell_type": "markdown",
   "metadata": {},
   "source": [
    "## Export the combined data\n",
    "I'm going to export the left join results."
   ]
  },
  {
   "cell_type": "code",
   "execution_count": 26,
   "metadata": {},
   "outputs": [],
   "source": [
    "out_path = join(data_path, 'processed', 'facility_gen_emissions.csv')"
   ]
  },
  {
   "cell_type": "code",
   "execution_count": 28,
   "metadata": {},
   "outputs": [],
   "source": [
    "left.to_csv(out_path, index=False)"
   ]
  },
  {
   "cell_type": "code",
   "execution_count": null,
   "metadata": {},
   "outputs": [],
   "source": []
  }
 ],
 "metadata": {
  "kernelspec": {
   "display_name": "Python [conda env:pydata-issst]",
   "language": "python",
   "name": "conda-env-pydata-issst-py"
  },
  "language_info": {
   "codemirror_mode": {
    "name": "ipython",
    "version": 3
   },
   "file_extension": ".py",
   "mimetype": "text/x-python",
   "name": "python",
   "nbconvert_exporter": "python",
   "pygments_lexer": "ipython3",
   "version": "3.6.5"
  }
 },
 "nbformat": 4,
 "nbformat_minor": 2
}
