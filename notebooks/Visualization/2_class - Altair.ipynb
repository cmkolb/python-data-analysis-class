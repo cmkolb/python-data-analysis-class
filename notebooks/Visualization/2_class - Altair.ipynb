{
 "cells": [
  {
   "cell_type": "markdown",
   "metadata": {},
   "source": [
    "# Plotting with Altair\n",
    "Altair is a fantastic plotting library that uses descriptive plotting grammer and has built-in tools for interactivity. I'm using some example data here because Altair has trouble with larger datasets."
   ]
  },
  {
   "cell_type": "code",
   "execution_count": null,
   "metadata": {
    "collapsed": false
   },
   "outputs": [],
   "source": [
    "%matplotlib inline\n",
    "import matplotlib.pyplot as plt\n",
    "import pandas as pd\n",
    "import seaborn as sns\n",
    "import numpy as np\n",
    "import altair as alt\n",
    "from vega_datasets import data\n",
    "\n",
    "# uncomment this line if running in a notebook instead of jupyterlab\n",
    "# alt.renderers.enable('notebook')"
   ]
  },
  {
   "cell_type": "code",
   "execution_count": null,
   "metadata": {},
   "outputs": [],
   "source": [
    "cars = data.cars()\n",
    "cars.head()"
   ]
  },
  {
   "cell_type": "markdown",
   "metadata": {},
   "source": [
    "## Understanding data types\n",
    "Keep in mind [four main types of data](https://altair-viz.github.io/user_guide/encoding.html#data-types) for every variable/parameter in a visualization. Altair understands and uses these data types.\n",
    "\n",
    "Data Type | Description\n",
    "----------|------------\n",
    "Quantitative | a continuous real-valued quantity\n",
    "Ordinal | a discrete ordered quantity\n",
    "Nominal | a discrete unordered category\n",
    "Temporal | a time or date value\n",
    "\n",
    "There can be more than one appropriate type for a data series, depending on the context. \n",
    "\n",
    "Understanding the type of data you have will help determne what plots to make or color palettes to use."
   ]
  },
  {
   "cell_type": "markdown",
   "metadata": {},
   "source": [
    "## Basic plots\n",
    "To create a plot we start with a `Chart` object. Next we specify a type of *mark* (e.g. `mark_point`, `mark_circle`, `mark_line`, `mark_bar`, etc). Finally we *encode* information like the name of x and y variables in channels.\n",
    "\n",
    "Notice that the data types for each variable are specified below. These aren't always necessary - Altair will try to infer them - but they can affect the type of plot that is created."
   ]
  },
  {
   "cell_type": "code",
   "execution_count": null,
   "metadata": {},
   "outputs": [],
   "source": []
  },
  {
   "cell_type": "code",
   "execution_count": null,
   "metadata": {},
   "outputs": [],
   "source": []
  },
  {
   "cell_type": "markdown",
   "metadata": {},
   "source": [
    "### Interactivity\n",
    "It's easy to add interactivity like tooltips and drag/zooom."
   ]
  },
  {
   "cell_type": "code",
   "execution_count": null,
   "metadata": {},
   "outputs": [],
   "source": [
    "tooltip_cols = ['Name', 'Origin', 'Horsepower', 'Miles_per_Gallon']\n",
    "\n"
   ]
  },
  {
   "cell_type": "markdown",
   "metadata": {},
   "source": [
    "### Changing data types\n",
    "By changing the `color` from *Nominal* to *Ordinal* I have forced Altair to pick a different type of color palette."
   ]
  },
  {
   "cell_type": "code",
   "execution_count": null,
   "metadata": {},
   "outputs": [],
   "source": []
  },
  {
   "cell_type": "code",
   "execution_count": null,
   "metadata": {},
   "outputs": [],
   "source": []
  },
  {
   "cell_type": "markdown",
   "metadata": {},
   "source": [
    "Using a *Nominal* data type for the *color* channel will produce a different type of legend."
   ]
  },
  {
   "cell_type": "code",
   "execution_count": null,
   "metadata": {},
   "outputs": [],
   "source": []
  },
  {
   "cell_type": "code",
   "execution_count": null,
   "metadata": {},
   "outputs": [],
   "source": []
  },
  {
   "cell_type": "code",
   "execution_count": null,
   "metadata": {},
   "outputs": [],
   "source": []
  },
  {
   "cell_type": "markdown",
   "metadata": {},
   "source": [
    "### Aggregated statistics"
   ]
  },
  {
   "cell_type": "code",
   "execution_count": null,
   "metadata": {},
   "outputs": [],
   "source": []
  },
  {
   "cell_type": "code",
   "execution_count": null,
   "metadata": {},
   "outputs": [],
   "source": []
  },
  {
   "cell_type": "code",
   "execution_count": null,
   "metadata": {},
   "outputs": [],
   "source": []
  },
  {
   "cell_type": "code",
   "execution_count": null,
   "metadata": {},
   "outputs": [],
   "source": []
  },
  {
   "cell_type": "markdown",
   "metadata": {},
   "source": [
    "## Use *selection* objects to link data between plots"
   ]
  },
  {
   "cell_type": "code",
   "execution_count": null,
   "metadata": {},
   "outputs": [],
   "source": []
  },
  {
   "cell_type": "code",
   "execution_count": null,
   "metadata": {},
   "outputs": [],
   "source": []
  },
  {
   "cell_type": "code",
   "execution_count": null,
   "metadata": {},
   "outputs": [],
   "source": []
  }
 ],
 "metadata": {
  "anaconda-cloud": {},
  "kernelspec": {
   "display_name": "Python [conda env:pydata-issst]",
   "language": "python",
   "name": "conda-env-pydata-issst-py"
  },
  "language_info": {
   "codemirror_mode": {
    "name": "ipython",
    "version": 3
   },
   "file_extension": ".py",
   "mimetype": "text/x-python",
   "name": "python",
   "nbconvert_exporter": "python",
   "pygments_lexer": "ipython3",
   "version": "3.6.5"
  },
  "widgets": {
   "state": {},
   "version": "1.1.2"
  }
 },
 "nbformat": 4,
 "nbformat_minor": 2
}
