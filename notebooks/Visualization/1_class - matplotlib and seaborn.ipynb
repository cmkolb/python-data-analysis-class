{
 "cells": [
  {
   "cell_type": "markdown",
   "metadata": {},
   "source": [
    "# Data visualization"
   ]
  },
  {
   "cell_type": "code",
   "execution_count": null,
   "metadata": {
    "collapsed": false
   },
   "outputs": [],
   "source": [
    "%matplotlib inline\n",
    "import matplotlib.pyplot as plt\n",
    "import pandas as pd\n",
    "import seaborn as sns\n",
    "import numpy as np\n",
    "import os\n",
    "from os.path import join\n",
    "import sys\n",
    "\n",
    "cwd = os.getcwd()\n",
    "data_path = join(cwd, '..', '..', 'data')\n",
    "\n",
    "sns.set(style='white', palette='tab10',\n",
    "        context='notebook', font_scale=1.25,\n",
    "        rc={'axes.linewidth': 1.5,\n",
    "            'axes.grid': True,\n",
    "            'axes.spines.right': False,\n",
    "            'axes.spines.top': False})"
   ]
  },
  {
   "cell_type": "code",
   "execution_count": null,
   "metadata": {},
   "outputs": [],
   "source": [
    "# Load the \"autoreload\" extension\n",
    "%load_ext autoreload\n",
    "\n",
    "# always reload modules marked with \"%aimport\"\n",
    "%autoreload 1\n",
    "\n",
    "# add the 'src' directory as one where we can import modules\n",
    "src_dir = join(os.getcwd(), '..', '..', 'src')\n",
    "sys.path.append(src_dir)"
   ]
  },
  {
   "cell_type": "code",
   "execution_count": null,
   "metadata": {},
   "outputs": [],
   "source": [
    "# Import functions to load/clean the data files\n",
    "%aimport data.filter_outliers\n",
    "from data.filter_outliers import filter_outliers"
   ]
  },
  {
   "cell_type": "markdown",
   "metadata": {},
   "source": [
    "## Load data"
   ]
  },
  {
   "cell_type": "code",
   "execution_count": null,
   "metadata": {},
   "outputs": [],
   "source": [
    "path = join(data_path, 'processed', 'facility_gen_emissions.csv')\n",
    "df = pd.read_csv(path)"
   ]
  },
  {
   "cell_type": "code",
   "execution_count": null,
   "metadata": {},
   "outputs": [],
   "source": [
    "df.head()"
   ]
  },
  {
   "cell_type": "code",
   "execution_count": null,
   "metadata": {},
   "outputs": [],
   "source": [
    "df.describe()"
   ]
  },
  {
   "cell_type": "code",
   "execution_count": null,
   "metadata": {},
   "outputs": [],
   "source": [
    "len(df['state'].dropna()), len(df['facility_name'].dropna()), len(df['year'].dropna())"
   ]
  },
  {
   "cell_type": "code",
   "execution_count": null,
   "metadata": {},
   "outputs": [],
   "source": [
    "df.fuel_category.unique()"
   ]
  },
  {
   "cell_type": "markdown",
   "metadata": {},
   "source": [
    "## Create a second dataframe with only records that have both *net_gen_mwh* and EPA emissions data\n",
    "This is what we would have gotten with an inner join. From the information above it looks like there rows mission only some of the EPA values. It seems like a safe assumption that every EPA record has a value for `year`.\n",
    "\n",
    "EIA net generation values can be negative. I'm going to use this data to calculate emission rates and don't want to deal with negative values for now so I'll only include records with positive (and non-zero) net generation. This will make plotting easier and isn't necessarily the best way to deal with this data for the purpose of analysis."
   ]
  },
  {
   "cell_type": "code",
   "execution_count": null,
   "metadata": {},
   "outputs": [],
   "source": [
    "# I'm doing a copy of the returned dataframe object here because\n",
    "# Pandas was giving a SettingWithCopyWarning later on.\n",
    "df2 = df.dropna(subset=['year']).copy()"
   ]
  },
  {
   "cell_type": "code",
   "execution_count": null,
   "metadata": {},
   "outputs": [],
   "source": [
    "len(df2)"
   ]
  },
  {
   "cell_type": "code",
   "execution_count": null,
   "metadata": {},
   "outputs": [],
   "source": [
    "df2.fuel_category.unique()"
   ]
  },
  {
   "cell_type": "code",
   "execution_count": null,
   "metadata": {},
   "outputs": [],
   "source": [
    "df2 = df2.loc[df2['net_gen_mwh'] > 0]\n",
    "len(df2)"
   ]
  },
  {
   "cell_type": "markdown",
   "metadata": {},
   "source": [
    "## Matplotlib\n",
    "[Matplotlib](https://matplotlib.org/) is probably the most popular Python plotting package and it improved significantly with version 2.0. If you can imagine a figure, and have several hours/days of spare time, you can probably make it with matplotlib. On the plus side it allows you to customize nearly every pixel on a figure."
   ]
  },
  {
   "cell_type": "code",
   "execution_count": null,
   "metadata": {},
   "outputs": [],
   "source": [
    "# group to generation by month\n",
    "total_monthly = df.groupby('month', as_index=False).sum()\n",
    "\n",
    "plt.plot(total_monthly.month, total_monthly.net_gen_mwh)\n",
    "plt.xlabel('Month')\n",
    "plt.ylabel('Total generation (MWh)')"
   ]
  },
  {
   "cell_type": "code",
   "execution_count": null,
   "metadata": {},
   "outputs": [],
   "source": [
    "# group to generation by month and fuel\n",
    "total_monthly_fuel = df.groupby(['month', 'fuel_category'], as_index=False).sum()\n",
    "\n",
    "for fuel in total_monthly_fuel.fuel_category.unique():\n",
    "    # Set x and y values\n",
    "    x = total_monthly_fuel.loc[total_monthly_fuel['fuel_category'] == fuel, 'month']\n",
    "    y = total_monthly_fuel.loc[total_monthly_fuel['fuel_category'] == fuel, 'net_gen_mwh']\n",
    "    plt.plot(x, y, label=fuel)\n",
    "    \n",
    "plt.xlabel('Month')\n",
    "plt.ylabel('Total generation (MWh)')\n",
    "plt.legend(loc=(1.02 , 0.3))"
   ]
  },
  {
   "cell_type": "markdown",
   "metadata": {},
   "source": [
    "### Plot with Pandas\n",
    "Pandas has several matplotlib wrapper methods that let you plot the data in a dataframe. It will use the information (e.g. column names) to provide some labels on the figure."
   ]
  },
  {
   "cell_type": "code",
   "execution_count": null,
   "metadata": {},
   "outputs": [],
   "source": []
  },
  {
   "cell_type": "code",
   "execution_count": null,
   "metadata": {},
   "outputs": [],
   "source": []
  },
  {
   "cell_type": "markdown",
   "metadata": {},
   "source": [
    "## Plot with Seaborn\n",
    "Seaborn also wraps functions around matplotlib and provides much more powerful tools for exploring data. It was designed to work closely with Pandas dataframes. I highly recommend going through the [Seaborn tutorial](https://seaborn.pydata.org/tutorial.html). "
   ]
  },
  {
   "cell_type": "markdown",
   "metadata": {},
   "source": [
    "### Distributions"
   ]
  },
  {
   "cell_type": "code",
   "execution_count": null,
   "metadata": {},
   "outputs": [],
   "source": []
  },
  {
   "cell_type": "code",
   "execution_count": null,
   "metadata": {},
   "outputs": [],
   "source": []
  },
  {
   "cell_type": "code",
   "execution_count": null,
   "metadata": {},
   "outputs": [],
   "source": []
  },
  {
   "cell_type": "code",
   "execution_count": null,
   "metadata": {},
   "outputs": [],
   "source": []
  },
  {
   "cell_type": "code",
   "execution_count": null,
   "metadata": {},
   "outputs": [],
   "source": []
  },
  {
   "cell_type": "markdown",
   "metadata": {},
   "source": [
    "### Categorical"
   ]
  },
  {
   "cell_type": "code",
   "execution_count": null,
   "metadata": {},
   "outputs": [],
   "source": []
  },
  {
   "cell_type": "code",
   "execution_count": null,
   "metadata": {},
   "outputs": [],
   "source": []
  },
  {
   "cell_type": "code",
   "execution_count": null,
   "metadata": {},
   "outputs": [],
   "source": []
  },
  {
   "cell_type": "code",
   "execution_count": null,
   "metadata": {},
   "outputs": [],
   "source": []
  },
  {
   "cell_type": "markdown",
   "metadata": {},
   "source": [
    "Now I'll use the month as an **ordinal** variable on the x axis.\n",
    "\n",
    "First I want to calculate the monthly emissions rate for each facility and emissions type.\n",
    "\n",
    "$$rate = \\frac{mass}{generation}$$"
   ]
  },
  {
   "cell_type": "code",
   "execution_count": null,
   "metadata": {},
   "outputs": [],
   "source": [
    "for col in ['nox_kg', 'so2_kg', 'co2_kg']:\n",
    "    rate_col = col.replace('kg', 'rate')\n",
    "    df2[rate_col] = df2[col] / df2['net_gen_mwh']\n",
    "    df2[rate_col].replace(np.inf, 0, inplace=True)"
   ]
  },
  {
   "cell_type": "code",
   "execution_count": null,
   "metadata": {},
   "outputs": [],
   "source": [
    "# There are some extreme emission rate values. Might want to filter these.\n",
    "df2.describe([.25, .5, .75, 0.95])"
   ]
  },
  {
   "cell_type": "code",
   "execution_count": null,
   "metadata": {},
   "outputs": [],
   "source": [
    "df2 = filter_outliers(df2, columns=['co2_rate', 'so2_rate', 'nox_rate'], percentile=0.95)"
   ]
  },
  {
   "cell_type": "code",
   "execution_count": null,
   "metadata": {},
   "outputs": [],
   "source": []
  },
  {
   "cell_type": "code",
   "execution_count": null,
   "metadata": {},
   "outputs": [],
   "source": []
  },
  {
   "cell_type": "code",
   "execution_count": null,
   "metadata": {},
   "outputs": [],
   "source": []
  },
  {
   "cell_type": "markdown",
   "metadata": {},
   "source": [
    "#### FacetGrid\n",
    "FacetGrid is a lower-level but incredibly powerful plotting tool. It lets you create a grid with parameters splitting data by row, month, and hue. Then you can plot any function on that grid."
   ]
  },
  {
   "cell_type": "code",
   "execution_count": null,
   "metadata": {},
   "outputs": [],
   "source": []
  },
  {
   "cell_type": "code",
   "execution_count": null,
   "metadata": {},
   "outputs": [],
   "source": []
  },
  {
   "cell_type": "code",
   "execution_count": null,
   "metadata": {},
   "outputs": [],
   "source": []
  },
  {
   "cell_type": "code",
   "execution_count": null,
   "metadata": {},
   "outputs": [],
   "source": []
  },
  {
   "cell_type": "code",
   "execution_count": null,
   "metadata": {},
   "outputs": [],
   "source": []
  },
  {
   "cell_type": "markdown",
   "metadata": {},
   "source": [
    "What's the difference when we change hue to `month` rather than `fuel_category`?"
   ]
  },
  {
   "cell_type": "markdown",
   "metadata": {},
   "source": [
    "Seaborn assumes that the `hue` parameter represents something categorical. We can use it for a quantitative variable but it takes some work. "
   ]
  },
  {
   "cell_type": "code",
   "execution_count": null,
   "metadata": {},
   "outputs": [],
   "source": [
    "# This code is based on a stackoverflow example\n",
    "# https://stackoverflow.com/questions/44641669/\n",
    "\n",
    "def facet_scatter(x, y, c, **kwargs):\n",
    "    kwargs.pop(\"color\")\n",
    "    plt.scatter(x, y, c=c, **kwargs)\n",
    "\n",
    "data = df2.loc[df2.fuel_category != 'Nuclear']\n",
    "g = sns.FacetGrid(data=data, col='fuel_category', col_wrap=3, aspect=1.3)\n",
    "\n",
    "# Create a normalized colormap \n",
    "vmin, vmax = data.net_gen_mwh.min(), data.net_gen_mwh.max()\n",
    "cmap = plt.cm.viridis_r\n",
    "norm=plt.Normalize(vmin=vmin, vmax=vmax)\n",
    "\n",
    "\n",
    "g.map(facet_scatter, 'co2_rate', 'nox_rate', 'net_gen_mwh', norm=norm, cmap=cmap, alpha=0.3)\n",
    "\n",
    "# Make space for the colorbar\n",
    "g.fig.subplots_adjust(right=.92)\n",
    "\n",
    "# Define a new Axes where the colorbar will go\n",
    "cax = g.fig.add_axes([.94, .25, .02, .6])\n",
    "\n",
    "# Get a mappable object with the same colormap as the data\n",
    "points = plt.scatter([], [], c=[], vmin=vmin, vmax=vmax, cmap=cmap)\n",
    "\n",
    "# Draw the colorbar\n",
    "g.fig.colorbar(points, cax=cax)"
   ]
  },
  {
   "cell_type": "markdown",
   "metadata": {},
   "source": [
    "## Regressions"
   ]
  },
  {
   "cell_type": "code",
   "execution_count": null,
   "metadata": {},
   "outputs": [],
   "source": []
  },
  {
   "cell_type": "code",
   "execution_count": null,
   "metadata": {},
   "outputs": [],
   "source": []
  },
  {
   "cell_type": "code",
   "execution_count": null,
   "metadata": {},
   "outputs": [],
   "source": []
  },
  {
   "cell_type": "code",
   "execution_count": null,
   "metadata": {},
   "outputs": [],
   "source": []
  },
  {
   "cell_type": "code",
   "execution_count": null,
   "metadata": {},
   "outputs": [],
   "source": []
  }
 ],
 "metadata": {
  "anaconda-cloud": {},
  "kernelspec": {
   "display_name": "Python [conda env:pydata-issst]",
   "language": "python",
   "name": "conda-env-pydata-issst-py"
  },
  "language_info": {
   "codemirror_mode": {
    "name": "ipython",
    "version": 3
   },
   "file_extension": ".py",
   "mimetype": "text/x-python",
   "name": "python",
   "nbconvert_exporter": "python",
   "pygments_lexer": "ipython3",
   "version": "3.6.5"
  },
  "widgets": {
   "state": {},
   "version": "1.1.2"
  }
 },
 "nbformat": 4,
 "nbformat_minor": 2
}
