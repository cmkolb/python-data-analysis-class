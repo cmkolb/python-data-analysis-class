{
 "cells": [
  {
   "cell_type": "markdown",
   "metadata": {},
   "source": [
    "# Color palettes and data types for visualization"
   ]
  },
  {
   "cell_type": "code",
   "execution_count": 1,
   "metadata": {
    "ExecuteTime": {
     "end_time": "2018-06-08T16:21:09.693202Z",
     "start_time": "2018-06-08T16:21:08.132691Z"
    }
   },
   "outputs": [],
   "source": [
    "%matplotlib inline\n",
    "import matplotlib.pyplot as plt\n",
    "import pandas as pd\n",
    "import seaborn as sns\n",
    "import numpy as np\n",
    "import os\n",
    "from os.path import join\n",
    "import calendar\n",
    "from vega_datasets import data\n",
    "\n",
    "cwd = os.getcwd()\n",
    "data_path = join(cwd, '..', '..', 'data')"
   ]
  },
  {
   "cell_type": "markdown",
   "metadata": {},
   "source": [
    "## Load data"
   ]
  },
  {
   "cell_type": "code",
   "execution_count": 2,
   "metadata": {},
   "outputs": [],
   "source": [
    "path = join(data_path, 'processed', 'facility_gen_cap_emissions.csv')\n",
    "df = pd.read_csv(path)"
   ]
  },
  {
   "cell_type": "code",
   "execution_count": 3,
   "metadata": {},
   "outputs": [
    {
     "data": {
      "text/html": [
       "<div>\n",
       "<style scoped>\n",
       "    .dataframe tbody tr th:only-of-type {\n",
       "        vertical-align: middle;\n",
       "    }\n",
       "\n",
       "    .dataframe tbody tr th {\n",
       "        vertical-align: top;\n",
       "    }\n",
       "\n",
       "    .dataframe thead th {\n",
       "        text-align: right;\n",
       "    }\n",
       "</style>\n",
       "<table border=\"1\" class=\"dataframe\">\n",
       "  <thead>\n",
       "    <tr style=\"text-align: right;\">\n",
       "      <th></th>\n",
       "      <th>plant_id</th>\n",
       "      <th>month</th>\n",
       "      <th>net_gen_mwh</th>\n",
       "      <th>primary_gen_fuel</th>\n",
       "      <th>gross_load_mwh</th>\n",
       "      <th>so2_tons</th>\n",
       "      <th>nox_tons</th>\n",
       "      <th>co2_short_tons</th>\n",
       "      <th>heat_input_mmbtu</th>\n",
       "      <th>state</th>\n",
       "      <th>nameplate_capacity_mw</th>\n",
       "      <th>summer_capacity_mw</th>\n",
       "      <th>winter_capacity_mw</th>\n",
       "      <th>minimum_load_mw</th>\n",
       "      <th>technology</th>\n",
       "    </tr>\n",
       "  </thead>\n",
       "  <tbody>\n",
       "    <tr>\n",
       "      <th>0</th>\n",
       "      <td>2</td>\n",
       "      <td>1</td>\n",
       "      <td>-77.112</td>\n",
       "      <td>HYC</td>\n",
       "      <td>NaN</td>\n",
       "      <td>NaN</td>\n",
       "      <td>NaN</td>\n",
       "      <td>NaN</td>\n",
       "      <td>NaN</td>\n",
       "      <td>AL</td>\n",
       "      <td>53.9</td>\n",
       "      <td>56.0</td>\n",
       "      <td>52.0</td>\n",
       "      <td>52.0</td>\n",
       "      <td>Conventional Hydroelectric</td>\n",
       "    </tr>\n",
       "    <tr>\n",
       "      <th>1</th>\n",
       "      <td>2</td>\n",
       "      <td>2</td>\n",
       "      <td>-69.679</td>\n",
       "      <td>HYC</td>\n",
       "      <td>NaN</td>\n",
       "      <td>NaN</td>\n",
       "      <td>NaN</td>\n",
       "      <td>NaN</td>\n",
       "      <td>NaN</td>\n",
       "      <td>AL</td>\n",
       "      <td>53.9</td>\n",
       "      <td>56.0</td>\n",
       "      <td>52.0</td>\n",
       "      <td>52.0</td>\n",
       "      <td>Conventional Hydroelectric</td>\n",
       "    </tr>\n",
       "    <tr>\n",
       "      <th>2</th>\n",
       "      <td>2</td>\n",
       "      <td>3</td>\n",
       "      <td>-48.374</td>\n",
       "      <td>HYC</td>\n",
       "      <td>NaN</td>\n",
       "      <td>NaN</td>\n",
       "      <td>NaN</td>\n",
       "      <td>NaN</td>\n",
       "      <td>NaN</td>\n",
       "      <td>AL</td>\n",
       "      <td>53.9</td>\n",
       "      <td>56.0</td>\n",
       "      <td>52.0</td>\n",
       "      <td>52.0</td>\n",
       "      <td>Conventional Hydroelectric</td>\n",
       "    </tr>\n",
       "    <tr>\n",
       "      <th>3</th>\n",
       "      <td>2</td>\n",
       "      <td>4</td>\n",
       "      <td>-24.341</td>\n",
       "      <td>HYC</td>\n",
       "      <td>NaN</td>\n",
       "      <td>NaN</td>\n",
       "      <td>NaN</td>\n",
       "      <td>NaN</td>\n",
       "      <td>NaN</td>\n",
       "      <td>AL</td>\n",
       "      <td>53.9</td>\n",
       "      <td>56.0</td>\n",
       "      <td>52.0</td>\n",
       "      <td>52.0</td>\n",
       "      <td>Conventional Hydroelectric</td>\n",
       "    </tr>\n",
       "    <tr>\n",
       "      <th>4</th>\n",
       "      <td>2</td>\n",
       "      <td>5</td>\n",
       "      <td>-11.476</td>\n",
       "      <td>HYC</td>\n",
       "      <td>NaN</td>\n",
       "      <td>NaN</td>\n",
       "      <td>NaN</td>\n",
       "      <td>NaN</td>\n",
       "      <td>NaN</td>\n",
       "      <td>AL</td>\n",
       "      <td>53.9</td>\n",
       "      <td>56.0</td>\n",
       "      <td>52.0</td>\n",
       "      <td>52.0</td>\n",
       "      <td>Conventional Hydroelectric</td>\n",
       "    </tr>\n",
       "  </tbody>\n",
       "</table>\n",
       "</div>"
      ],
      "text/plain": [
       "   plant_id  month  net_gen_mwh primary_gen_fuel  gross_load_mwh  so2_tons  \\\n",
       "0         2      1      -77.112              HYC             NaN       NaN   \n",
       "1         2      2      -69.679              HYC             NaN       NaN   \n",
       "2         2      3      -48.374              HYC             NaN       NaN   \n",
       "3         2      4      -24.341              HYC             NaN       NaN   \n",
       "4         2      5      -11.476              HYC             NaN       NaN   \n",
       "\n",
       "   nox_tons  co2_short_tons  heat_input_mmbtu state  nameplate_capacity_mw  \\\n",
       "0       NaN             NaN               NaN    AL                   53.9   \n",
       "1       NaN             NaN               NaN    AL                   53.9   \n",
       "2       NaN             NaN               NaN    AL                   53.9   \n",
       "3       NaN             NaN               NaN    AL                   53.9   \n",
       "4       NaN             NaN               NaN    AL                   53.9   \n",
       "\n",
       "   summer_capacity_mw  winter_capacity_mw  minimum_load_mw  \\\n",
       "0                56.0                52.0             52.0   \n",
       "1                56.0                52.0             52.0   \n",
       "2                56.0                52.0             52.0   \n",
       "3                56.0                52.0             52.0   \n",
       "4                56.0                52.0             52.0   \n",
       "\n",
       "                   technology  \n",
       "0  Conventional Hydroelectric  \n",
       "1  Conventional Hydroelectric  \n",
       "2  Conventional Hydroelectric  \n",
       "3  Conventional Hydroelectric  \n",
       "4  Conventional Hydroelectric  "
      ]
     },
     "execution_count": 3,
     "metadata": {},
     "output_type": "execute_result"
    }
   ],
   "source": [
    "df.head()"
   ]
  },
  {
   "cell_type": "markdown",
   "metadata": {},
   "source": [
    "## Understanding data types\n",
    "Keep in mind [four main types of data](https://altair-viz.github.io/user_guide/encoding.html#data-types) for every variable/parameter in a visualization\n",
    "\n",
    "Data Type | Description\n",
    "----------|------------\n",
    "Quantitative | a continuous real-valued quantity\n",
    "Ordinal | a discrete ordered quantity\n",
    "Nominal | a discrete unordered category\n",
    "Temporal | a time or date value\n",
    "\n",
    "There can be more than one appropriate type for a data series, depending on the context. \n",
    "\n",
    "Understanding the type of data you have will help determne what plots to make or color palettes to use. In the next notebook we'll explore the combined EIA/EPA data (and possibly a few other example data sets), using the definitions above to help guide our choices."
   ]
  },
  {
   "cell_type": "markdown",
   "metadata": {},
   "source": [
    "We've already know how to use the built-in Pandas dataframe `dtypes` method to check the type of data in each column. "
   ]
  },
  {
   "cell_type": "code",
   "execution_count": 13,
   "metadata": {},
   "outputs": [
    {
     "data": {
      "text/plain": [
       "plant_id                   int64\n",
       "month                      int64\n",
       "net_gen_mwh              float64\n",
       "aer_fuel_type_code        object\n",
       "year                     float64\n",
       "gross_load_mwh           float64\n",
       "so2_tons                 float64\n",
       "nox_tons                 float64\n",
       "co2_short_tons           float64\n",
       "heat_input_mmbtu         float64\n",
       "state                     object\n",
       "nameplate_capacity_mw    float64\n",
       "summer_capacity_mw       float64\n",
       "winter_capacity_mw       float64\n",
       "minimum_load_mw          float64\n",
       "technology                object\n",
       "dtype: object"
      ]
     },
     "execution_count": 13,
     "metadata": {},
     "output_type": "execute_result"
    }
   ],
   "source": [
    "df.dtypes"
   ]
  },
  {
   "cell_type": "markdown",
   "metadata": {},
   "source": [
    "## QUIZ\n",
    "[Apply your new understanding of data types in this quiz](https://goo.gl/forms/7Hs2DTJLkm72hlPq2) "
   ]
  },
  {
   "cell_type": "markdown",
   "metadata": {},
   "source": [
    "## Color palettes\n",
    "Color is an important part of visualization. Understanding a few simple concepts and rules will help viewers better understand your data.\n",
    "\n",
    "### Types of color palettes\n",
    "<p align=\"left\">\n",
    "\n",
    "|<p align=\"left\">Palette Type | <p align=\"center\">Description\n",
    "|    ----- |------------\n",
    "|<p align=\"left\">Qualitative/Categorical| <p align=\"center\">Discrete unordered colors\n",
    "|<p align=\"left\">Sequential | <p align=\"center\">Colors smoothly transition from low to high\n",
    "|<p align=\"left\">Diverging | <p align=\"center\">Colors increase in brightness to the midpoint,<br>then decrease again in a different color"
   ]
  },
  {
   "cell_type": "markdown",
   "metadata": {},
   "source": [
    "#### Categorical"
   ]
  },
  {
   "cell_type": "code",
   "execution_count": 3,
   "metadata": {
    "ExecuteTime": {
     "end_time": "2018-06-08T16:43:17.124051Z",
     "start_time": "2018-06-08T16:43:17.049096Z"
    }
   },
   "outputs": [
    {
     "data": {
      "image/png": "[encoded data removed]",
      "text/plain": [
       "<Figure size 720x72 with 1 Axes>"
      ]
     },
     "metadata": {},
     "output_type": "display_data"
    }
   ],
   "source": [
    "sns.palplot(sns.color_palette(palette='tab10', n_colors=10))"
   ]
  },
  {
   "cell_type": "code",
   "execution_count": 5,
   "metadata": {
    "ExecuteTime": {
     "end_time": "2018-06-08T16:43:50.780719Z",
     "start_time": "2018-06-08T16:43:50.704419Z"
    }
   },
   "outputs": [
    {
     "data": {
      "image/png": "[encoded data removed]",
      "text/plain": [
       "<Figure size 432x72 with 1 Axes>"
      ]
     },
     "metadata": {},
     "output_type": "display_data"
    }
   ],
   "source": [
    "sns.palplot(sns.color_palette(palette='deep', n_colors=6))"
   ]
  },
  {
   "cell_type": "code",
   "execution_count": 6,
   "metadata": {
    "ExecuteTime": {
     "end_time": "2018-06-08T16:44:13.261717Z",
     "start_time": "2018-06-08T16:44:13.201512Z"
    }
   },
   "outputs": [
    {
     "data": {
      "image/png": "[encoded data removed]",
      "text/plain": [
       "<Figure size 432x72 with 1 Axes>"
      ]
     },
     "metadata": {},
     "output_type": "display_data"
    }
   ],
   "source": [
    "sns.palplot(sns.color_palette(palette='Set1', n_colors=6))"
   ]
  },
  {
   "cell_type": "markdown",
   "metadata": {},
   "source": [
    "#### Sequential"
   ]
  },
  {
   "cell_type": "code",
   "execution_count": 8,
   "metadata": {
    "ExecuteTime": {
     "end_time": "2018-06-08T16:44:33.357065Z",
     "start_time": "2018-06-08T16:44:33.282749Z"
    }
   },
   "outputs": [
    {
     "data": {
      "image/png": "[encoded data removed]",
      "text/plain": [
       "<Figure size 720x72 with 1 Axes>"
      ]
     },
     "metadata": {},
     "output_type": "display_data"
    }
   ],
   "source": [
    "sns.palplot(sns.color_palette(palette='Blues', n_colors=10))"
   ]
  },
  {
   "cell_type": "code",
   "execution_count": 10,
   "metadata": {
    "ExecuteTime": {
     "end_time": "2018-06-08T16:44:45.215298Z",
     "start_time": "2018-06-08T16:44:45.122601Z"
    }
   },
   "outputs": [
    {
     "data": {
      "image/png": "[encoded data removed]",
      "text/plain": [
       "<Figure size 720x72 with 1 Axes>"
      ]
     },
     "metadata": {},
     "output_type": "display_data"
    }
   ],
   "source": [
    "sns.palplot(sns.color_palette(palette='viridis', n_colors=10))"
   ]
  },
  {
   "cell_type": "markdown",
   "metadata": {},
   "source": [
    "#### Diverging"
   ]
  },
  {
   "cell_type": "code",
   "execution_count": 19,
   "metadata": {
    "ExecuteTime": {
     "end_time": "2018-06-08T16:47:05.165074Z",
     "start_time": "2018-06-08T16:47:05.091382Z"
    }
   },
   "outputs": [
    {
     "data": {
      "image/png": "[encoded data removed]",
      "text/plain": [
       "<Figure size 792x72 with 1 Axes>"
      ]
     },
     "metadata": {},
     "output_type": "display_data"
    }
   ],
   "source": [
    "sns.palplot(sns.color_palette(palette='RdBu', n_colors=11))"
   ]
  },
  {
   "cell_type": "code",
   "execution_count": 20,
   "metadata": {
    "ExecuteTime": {
     "end_time": "2018-06-08T16:47:10.966968Z",
     "start_time": "2018-06-08T16:47:10.854469Z"
    }
   },
   "outputs": [
    {
     "data": {
      "image/png": "[encoded data removed]",
      "text/plain": [
       "<Figure size 792x72 with 1 Axes>"
      ]
     },
     "metadata": {},
     "output_type": "display_data"
    }
   ],
   "source": [
    "sns.palplot(sns.color_palette(palette='BrBG', n_colors=11))"
   ]
  },
  {
   "cell_type": "markdown",
   "metadata": {},
   "source": [
    "## Examples of how data types affect plot and color choices"
   ]
  },
  {
   "cell_type": "markdown",
   "metadata": {},
   "source": [
    "**Variables:**\n",
    "- Quantitative: `Horsepower`, `Miles_per_Gallon`\n",
    "- Nominal: `Origin`\n",
    "<img  src=\"../../misc/cars_quantitative.png\"/>"
   ]
  },
  {
   "cell_type": "markdown",
   "metadata": {},
   "source": [
    "What happens if we change the `Origin` variable from **Nominal** to **Ordinal**?\n",
    "\n",
    "<img  src=\"../../misc/cars_quantitative_ordinal_origin.png\"/>"
   ]
  },
  {
   "cell_type": "markdown",
   "metadata": {},
   "source": [
    "Now show the same plot with color defined by vehicle weight using sequential and diverging colormaps.\n",
    "\n",
    "<img  src=\"../../misc/cars_quantitative_sequential_diverging.png\"/>"
   ]
  },
  {
   "cell_type": "markdown",
   "metadata": {},
   "source": [
    "**Variables:**\n",
    "- Quantitative: `Miles_per_Gallon`\n",
    "- Temporal: `Year`\n",
    "- Ordinal: `Cylinders`\n",
    "\n",
    "<img  src=\"../../misc/cars_temporal_ordinal.png\"/>"
   ]
  },
  {
   "cell_type": "markdown",
   "metadata": {},
   "source": [
    "What happens if we change the `Cylinders` variable from **Ordinal** to **Nominal**?\n",
    "\n",
    "<img  src=\"../../misc/cars_temporal_nominal.png\"/>"
   ]
  },
  {
   "cell_type": "markdown",
   "metadata": {},
   "source": [
    "**Variables:**\n",
    "- Quantitative: `Miles_per_Gallon`\n",
    "- Nominal: `Origin`\n",
    "- Ordinal: `Cylinders`\n",
    "\n",
    "<img  src=\"../../misc/cars_nominal_bar.png\"/>"
   ]
  },
  {
   "cell_type": "markdown",
   "metadata": {},
   "source": [
    "Change the default colormap from sequential to diverging\n",
    "\n",
    "<img  src=\"../../misc/cars_nominal_bar_diverging.png\"/>"
   ]
  }
 ],
 "metadata": {
  "anaconda-cloud": {},
  "kernelspec": {
   "display_name": "Python [conda env:pydata-issst]",
   "language": "python",
   "name": "conda-env-pydata-issst-py"
  },
  "language_info": {
   "codemirror_mode": {
    "name": "ipython",
    "version": 3
   },
   "file_extension": ".py",
   "mimetype": "text/x-python",
   "name": "python",
   "nbconvert_exporter": "python",
   "pygments_lexer": "ipython3",
   "version": "3.6.5"
  },
  "varInspector": {
   "cols": {
    "lenName": 16,
    "lenType": 16,
    "lenVar": 40
   },
   "kernels_config": {
    "python": {
     "delete_cmd_postfix": "",
     "delete_cmd_prefix": "del ",
     "library": "var_list.py",
     "varRefreshCmd": "print(var_dic_list())"
    },
    "r": {
     "delete_cmd_postfix": ") ",
     "delete_cmd_prefix": "rm(",
     "library": "var_list.r",
     "varRefreshCmd": "cat(var_dic_list()) "
    }
   },
   "types_to_exclude": [
    "module",
    "function",
    "builtin_function_or_method",
    "instance",
    "_Feature"
   ],
   "window_display": false
  },
  "widgets": {
   "state": {},
   "version": "1.1.2"
  }
 },
 "nbformat": 4,
 "nbformat_minor": 2
}
